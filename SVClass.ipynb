{
  "nbformat": 4,
  "nbformat_minor": 0,
  "metadata": {
    "colab": {
      "provenance": [],
      "authorship_tag": "ABX9TyMA6+cgCfdkEOn4rfGMr1xM",
      "include_colab_link": true
    },
    "kernelspec": {
      "name": "python3",
      "display_name": "Python 3"
    },
    "language_info": {
      "name": "python"
    }
  },
  "cells": [
    {
      "cell_type": "markdown",
      "metadata": {
        "id": "view-in-github",
        "colab_type": "text"
      },
      "source": [
        "<a href=\"https://colab.research.google.com/github/selimctkl/freshman/blob/main/SVClass.ipynb\" target=\"_parent\"><img src=\"https://colab.research.google.com/assets/colab-badge.svg\" alt=\"Open In Colab\"/></a>"
      ]
    },
    {
      "cell_type": "code",
      "execution_count": 1,
      "metadata": {
        "id": "mSdbNB6oeMAj"
      },
      "outputs": [],
      "source": [
        "import pandas as pd \n",
        "import numpy as np \n",
        "import seaborn as sns\n",
        "import matplotlib.pyplot as plt\n",
        "import datetime as dt\n",
        "from sklearn.linear_model import LinearRegression\n",
        "from sklearn import preprocessing \n",
        "import seaborn as sns\n",
        "from sklearn.preprocessing import MinMaxScaler\n",
        "from sklearn.model_selection import train_test_split,cross_val_score, cross_val_predict\n",
        "from sklearn.preprocessing import StandardScaler\n",
        "import statsmodels.api as smf\n",
        "import statsmodels.api as sm\n",
        "from sklearn.metrics import mean_squared_error\n",
        "from sklearn.decomposition import PCA\n",
        "from sklearn.preprocessing import scale\n",
        "from sklearn.metrics import r2_score\n",
        "from sklearn import model_selection\n",
        "from sklearn.cross_decomposition import PLSRegression, PLSSVD\n",
        "from sklearn.linear_model import Ridge\n",
        "from sklearn.tree import DecisionTreeClassifier, DecisionTreeRegressor\n",
        "from sklearn.ensemble import BaggingRegressor\n",
        "from sklearn.neighbors import KNeighborsRegressor\n",
        "from sklearn.model_selection import GridSearchCV\n",
        "from numpy.core.fromnumeric import mean\n",
        "from sklearn.svm import SVR\n",
        "from sklearn.svm import LinearSVR\n",
        "from sklearn.neural_network import MLPRegressor\n",
        "from sklearn.ensemble import RandomForestRegressor\n",
        "from sklearn.metrics import roc_auc_score,roc_curve\n",
        "from sklearn.neighbors import KNeighborsClassifier\n",
        "from sklearn.discriminant_analysis import LinearDiscriminantAnalysis\n",
        "from sklearn.svm import SVC\n",
        "from sklearn.naive_bayes import GaussianNB\n",
        "from sklearn import tree\n",
        "from sklearn.ensemble import RandomForestClassifier\n",
        "from sklearn.ensemble import GradientBoostingClassifier\n",
        "from xgboost import XGBClassifier\n",
        "from lightgbm import LGBMClassifier\n",
        "from warnings import filterwarnings\n",
        "from sklearn.metrics import confusion_matrix, accuracy_score, classification_report\n",
        "\n",
        "filterwarnings(\"ignore\")"
      ]
    },
    {
      "cell_type": "code",
      "source": [
        "diabetes = pd.read_csv(\"diabetes.csv\")\n",
        "df=diabetes.copy()\n",
        "df=df.dropna()\n",
        "df.head()\n",
        "y=df[\"Outcome\"]\n",
        "X=df.drop([\"Outcome\"], axis = 1)\n",
        "X_train, X_test, y_train, y_test = train_test_split( X, y, test_size=0.30, random_state=42)"
      ],
      "metadata": {
        "id": "cNqB5wapourT"
      },
      "execution_count": 2,
      "outputs": []
    },
    {
      "cell_type": "markdown",
      "source": [
        " *  Modelimizin test train olarak ayarladık ilk parf da çektik sonra bi kopya her ihtimale karşı boşları dropladık predict parametremizi belirledik ve başa aldık kodun düzgünlüğü tamamen görsel değil tabi ardından ilk başta söz ettiğim mevzuyu yaptım *"
      ],
      "metadata": {
        "id": "Vz_21NKhsymQ"
      }
    },
    {
      "cell_type": "code",
      "source": [
        "svm_model = SVC(kernel =\"linear\").fit(X_train, y_train)"
      ],
      "metadata": {
        "id": "Uk1RDWFyo0Ll"
      },
      "execution_count": 6,
      "outputs": []
    },
    {
      "cell_type": "markdown",
      "source": [
        " * Burada modelimizi kütüpten çekiyoruz ve trainlerimizi fitliyoruz modelin öğrenmesi için kernelimizi linear yaptık bende pek hakim değilim farklılarına SVC sup vec Clasdan kısaltma*\n"
      ],
      "metadata": {
        "id": "drHY1IvNtLxM"
      }
    },
    {
      "cell_type": "code",
      "source": [
        "svm_model"
      ],
      "metadata": {
        "colab": {
          "base_uri": "https://localhost:8080/"
        },
        "id": "UTZWKROfr9P2",
        "outputId": "5ff341d0-7204-4b9c-c98d-99ff45f7d22a"
      },
      "execution_count": 7,
      "outputs": [
        {
          "output_type": "execute_result",
          "data": {
            "text/plain": [
              "SVC(kernel='linear')"
            ]
          },
          "metadata": {},
          "execution_count": 7
        }
      ]
    },
    {
      "cell_type": "markdown",
      "source": [
        "ne var ne yok kontrolü"
      ],
      "metadata": {
        "id": "cK9oo8vvt7Ez"
      }
    },
    {
      "cell_type": "code",
      "source": [
        "y_pred = svm_model.predict(X_test)"
      ],
      "metadata": {
        "id": "quC_Nor1r_E6"
      },
      "execution_count": 8,
      "outputs": []
    },
    {
      "cell_type": "markdown",
      "source": [
        "burda tahmin ettiriyoruz x testlerimizle ve y predimizi alıyoruz "
      ],
      "metadata": {
        "id": "hFzpDoPtuIAi"
      }
    },
    {
      "cell_type": "code",
      "source": [
        "accuracy_score(y_test, y_pred)"
      ],
      "metadata": {
        "colab": {
          "base_uri": "https://localhost:8080/"
        },
        "id": "TT7fPTYGuDsF",
        "outputId": "988f57e5-a60d-4e00-c758-96296c526f2e"
      },
      "execution_count": 9,
      "outputs": [
        {
          "output_type": "execute_result",
          "data": {
            "text/plain": [
              "0.7445887445887446"
            ]
          },
          "metadata": {},
          "execution_count": 9
        }
      ]
    },
    {
      "cell_type": "markdown",
      "source": [
        "belirli olan test y lerimizle pred edilenleri karşılaştırıp bir acu score alıyoruz sınıflandır"
      ],
      "metadata": {
        "id": "s9QqEFr6uNf0"
      }
    },
    {
      "cell_type": "code",
      "source": [
        "#model tune"
      ],
      "metadata": {
        "id": "bRbYE5akuHpb"
      },
      "execution_count": 10,
      "outputs": []
    },
    {
      "cell_type": "markdown",
      "source": [
        "tune edilmesi gerekn paramtere c değeri"
      ],
      "metadata": {
        "id": "KrUz5f4XupJj"
      }
    },
    {
      "cell_type": "code",
      "source": [
        "svc_params = {\"C\": np.arange(1,10)}\n",
        "svc = SVC(kernel = \"linear\")\n",
        "svc_cv_model = GridSearchCV(svc,svc_params,cv=10,verbose=2)\n",
        "svc_cv_model.fit(X_train,y_train)"
      ],
      "metadata": {
        "colab": {
          "base_uri": "https://localhost:8080/"
        },
        "id": "JutjURPuunA4",
        "outputId": "6aa55b9f-9df1-452b-e79a-3fdb2a169afe"
      },
      "execution_count": 11,
      "outputs": [
        {
          "output_type": "stream",
          "name": "stdout",
          "text": [
            "Fitting 10 folds for each of 9 candidates, totalling 90 fits\n",
            "[CV] END ................................................C=1; total time=   5.0s\n",
            "[CV] END ................................................C=1; total time=   2.9s\n",
            "[CV] END ................................................C=1; total time=   2.9s\n",
            "[CV] END ................................................C=1; total time=   3.0s\n",
            "[CV] END ................................................C=1; total time=   2.4s\n",
            "[CV] END ................................................C=1; total time=   1.8s\n",
            "[CV] END ................................................C=1; total time=   1.6s\n",
            "[CV] END ................................................C=1; total time=   2.3s\n",
            "[CV] END ................................................C=1; total time=   2.9s\n",
            "[CV] END ................................................C=1; total time=   2.3s\n",
            "[CV] END ................................................C=2; total time=   5.2s\n",
            "[CV] END ................................................C=2; total time=   6.4s\n",
            "[CV] END ................................................C=2; total time=   5.1s\n",
            "[CV] END ................................................C=2; total time=   5.0s\n",
            "[CV] END ................................................C=2; total time=   3.3s\n",
            "[CV] END ................................................C=2; total time=   5.0s\n",
            "[CV] END ................................................C=2; total time=   4.3s\n",
            "[CV] END ................................................C=2; total time=   3.4s\n",
            "[CV] END ................................................C=2; total time=   4.5s\n",
            "[CV] END ................................................C=2; total time=   6.2s\n",
            "[CV] END ................................................C=3; total time=   8.9s\n",
            "[CV] END ................................................C=3; total time=   6.6s\n",
            "[CV] END ................................................C=3; total time=   5.7s\n",
            "[CV] END ................................................C=3; total time=   8.1s\n",
            "[CV] END ................................................C=3; total time=   4.2s\n",
            "[CV] END ................................................C=3; total time=   7.6s\n",
            "[CV] END ................................................C=3; total time=   8.8s\n",
            "[CV] END ................................................C=3; total time=   6.6s\n",
            "[CV] END ................................................C=3; total time=   5.7s\n",
            "[CV] END ................................................C=3; total time=  11.8s\n",
            "[CV] END ................................................C=4; total time=   7.3s\n",
            "[CV] END ................................................C=4; total time=   6.7s\n",
            "[CV] END ................................................C=4; total time=   8.6s\n",
            "[CV] END ................................................C=4; total time=   9.1s\n",
            "[CV] END ................................................C=4; total time=   9.2s\n",
            "[CV] END ................................................C=4; total time=  12.7s\n",
            "[CV] END ................................................C=4; total time=   8.6s\n",
            "[CV] END ................................................C=4; total time=  11.3s\n",
            "[CV] END ................................................C=4; total time=   8.0s\n",
            "[CV] END ................................................C=4; total time=  10.5s\n",
            "[CV] END ................................................C=5; total time=  11.6s\n",
            "[CV] END ................................................C=5; total time=   8.6s\n",
            "[CV] END ................................................C=5; total time=  10.2s\n",
            "[CV] END ................................................C=5; total time=   8.0s\n",
            "[CV] END ................................................C=5; total time=   8.1s\n",
            "[CV] END ................................................C=5; total time=  14.7s\n",
            "[CV] END ................................................C=5; total time=  14.5s\n",
            "[CV] END ................................................C=5; total time=  11.6s\n",
            "[CV] END ................................................C=5; total time=   8.3s\n",
            "[CV] END ................................................C=5; total time=  20.9s\n",
            "[CV] END ................................................C=6; total time=  17.7s\n",
            "[CV] END ................................................C=6; total time=   9.7s\n",
            "[CV] END ................................................C=6; total time=  10.3s\n",
            "[CV] END ................................................C=6; total time=  10.7s\n",
            "[CV] END ................................................C=6; total time=  15.4s\n",
            "[CV] END ................................................C=6; total time=  27.6s\n",
            "[CV] END ................................................C=6; total time=  21.8s\n",
            "[CV] END ................................................C=6; total time=  16.4s\n",
            "[CV] END ................................................C=6; total time=  11.4s\n",
            "[CV] END ................................................C=6; total time=  19.9s\n",
            "[CV] END ................................................C=7; total time=  39.1s\n",
            "[CV] END ................................................C=7; total time=  11.4s\n",
            "[CV] END ................................................C=7; total time=  20.5s\n",
            "[CV] END ................................................C=7; total time=  16.1s\n",
            "[CV] END ................................................C=7; total time=  26.2s\n",
            "[CV] END ................................................C=7; total time=  16.6s\n",
            "[CV] END ................................................C=7; total time=  12.9s\n",
            "[CV] END ................................................C=7; total time=  12.7s\n",
            "[CV] END ................................................C=7; total time=  10.5s\n",
            "[CV] END ................................................C=7; total time=  31.1s\n",
            "[CV] END ................................................C=8; total time=  46.6s\n",
            "[CV] END ................................................C=8; total time=  13.4s\n",
            "[CV] END ................................................C=8; total time=  23.3s\n",
            "[CV] END ................................................C=8; total time=  22.1s\n",
            "[CV] END ................................................C=8; total time=  23.5s\n",
            "[CV] END ................................................C=8; total time=  16.4s\n",
            "[CV] END ................................................C=8; total time=  13.1s\n",
            "[CV] END ................................................C=8; total time=  21.4s\n",
            "[CV] END ................................................C=8; total time=  17.2s\n",
            "[CV] END ................................................C=8; total time=  22.4s\n",
            "[CV] END ................................................C=9; total time=  27.2s\n",
            "[CV] END ................................................C=9; total time=  24.1s\n",
            "[CV] END ................................................C=9; total time=  24.0s\n",
            "[CV] END ................................................C=9; total time=  16.2s\n",
            "[CV] END ................................................C=9; total time=  28.7s\n",
            "[CV] END ................................................C=9; total time=  12.3s\n",
            "[CV] END ................................................C=9; total time=  15.4s\n",
            "[CV] END ................................................C=9; total time=  18.2s\n",
            "[CV] END ................................................C=9; total time=  19.6s\n",
            "[CV] END ................................................C=9; total time=  20.9s\n"
          ]
        },
        {
          "output_type": "execute_result",
          "data": {
            "text/plain": [
              "GridSearchCV(cv=10, estimator=SVC(kernel='linear'),\n",
              "             param_grid={'C': array([1, 2, 3, 4, 5, 6, 7, 8, 9])}, verbose=2)"
            ]
          },
          "metadata": {},
          "execution_count": 11
        }
      ]
    },
    {
      "cell_type": "markdown",
      "source": [
        "sözlük yapısı ile 1-10 arası değerlerle yapılması gerekiyo 0 da hata verir\n",
        "model nesnemizi oluşturuyoruz grid search cross değerlerimizi girdik n jobs local için gerekli ben girmedim colabim bcs verbose çıktıları düzenli görmek için di sonrasında croslu modelimizi tekrar eğittik trainlerle"
      ],
      "metadata": {
        "id": "yHNtsABYu56W"
      }
    },
    {
      "cell_type": "code",
      "source": [
        "print(\"best params:\" +str(svc_cv_model.best_params_))"
      ],
      "metadata": {
        "colab": {
          "base_uri": "https://localhost:8080/"
        },
        "id": "zZhk8mtbu-LG",
        "outputId": "cf313d80-71bb-45c5-8129-047f44c2f13b"
      },
      "execution_count": 12,
      "outputs": [
        {
          "output_type": "stream",
          "name": "stdout",
          "text": [
            "best params:{'C': 5}\n"
          ]
        }
      ]
    },
    {
      "cell_type": "markdown",
      "source": [
        "en iyi parametreyi gridde bulduk sonra o şekilde modelimize parametreleri verdik"
      ],
      "metadata": {
        "id": "aSnFzartwQoM"
      }
    },
    {
      "cell_type": "code",
      "source": [
        "svc_tuned = SVC(kernel = \"linear\", C = 5).fit(X_train,y_train)"
      ],
      "metadata": {
        "id": "-w6Sp8UDwCt4"
      },
      "execution_count": 13,
      "outputs": []
    },
    {
      "cell_type": "markdown",
      "source": [
        "yeni cvli bestli modele fitledik"
      ],
      "metadata": {
        "id": "DNK3HMn-wZWx"
      }
    },
    {
      "cell_type": "code",
      "source": [
        "y_pred = svc_tuned.predict(X_test)\n",
        "accuracy_score(y_test,y_pred)"
      ],
      "metadata": {
        "colab": {
          "base_uri": "https://localhost:8080/"
        },
        "id": "T2baSrpTweUO",
        "outputId": "87f14696-1c1c-47a6-850e-1005f419a70e"
      },
      "execution_count": 14,
      "outputs": [
        {
          "output_type": "execute_result",
          "data": {
            "text/plain": [
              "0.7445887445887446"
            ]
          },
          "metadata": {},
          "execution_count": 14
        }
      ]
    },
    {
      "cell_type": "code",
      "source": [
        "#RBC doğrusal olmayan svc"
      ],
      "metadata": {
        "id": "zACwUKFX4db-"
      },
      "execution_count": 15,
      "outputs": []
    },
    {
      "cell_type": "code",
      "source": [
        "svc_model = SVC(kernel = \"rbf\").fit(X_train, y_train)"
      ],
      "metadata": {
        "id": "_-ZrUNMr4kpD"
      },
      "execution_count": 16,
      "outputs": []
    },
    {
      "cell_type": "code",
      "source": [
        "dir(svc_model)"
      ],
      "metadata": {
        "colab": {
          "base_uri": "https://localhost:8080/"
        },
        "id": "3CyHcL1Y4wU6",
        "outputId": "b903b2b5-dbce-4f06-893a-29acc881d160"
      },
      "execution_count": 18,
      "outputs": [
        {
          "output_type": "execute_result",
          "data": {
            "text/plain": [
              "['C',\n",
              " '__abstractmethods__',\n",
              " '__class__',\n",
              " '__delattr__',\n",
              " '__dict__',\n",
              " '__dir__',\n",
              " '__doc__',\n",
              " '__eq__',\n",
              " '__format__',\n",
              " '__ge__',\n",
              " '__getattribute__',\n",
              " '__getstate__',\n",
              " '__gt__',\n",
              " '__hash__',\n",
              " '__init__',\n",
              " '__init_subclass__',\n",
              " '__le__',\n",
              " '__lt__',\n",
              " '__module__',\n",
              " '__ne__',\n",
              " '__new__',\n",
              " '__reduce__',\n",
              " '__reduce_ex__',\n",
              " '__repr__',\n",
              " '__setattr__',\n",
              " '__setstate__',\n",
              " '__sizeof__',\n",
              " '__str__',\n",
              " '__subclasshook__',\n",
              " '__weakref__',\n",
              " '_abc_impl',\n",
              " '_check_feature_names',\n",
              " '_check_n_features',\n",
              " '_check_proba',\n",
              " '_compute_kernel',\n",
              " '_decision_function',\n",
              " '_dense_decision_function',\n",
              " '_dense_fit',\n",
              " '_dense_predict',\n",
              " '_dense_predict_proba',\n",
              " '_dual_coef_',\n",
              " '_estimator_type',\n",
              " '_gamma',\n",
              " '_get_coef',\n",
              " '_get_param_names',\n",
              " '_get_tags',\n",
              " '_impl',\n",
              " '_intercept_',\n",
              " '_more_tags',\n",
              " '_n_support',\n",
              " '_pairwise',\n",
              " '_probA',\n",
              " '_probB',\n",
              " '_repr_html_',\n",
              " '_repr_html_inner',\n",
              " '_repr_mimebundle_',\n",
              " '_sparse',\n",
              " '_sparse_decision_function',\n",
              " '_sparse_fit',\n",
              " '_sparse_kernels',\n",
              " '_sparse_predict',\n",
              " '_sparse_predict_proba',\n",
              " '_validate_data',\n",
              " '_validate_for_predict',\n",
              " '_validate_targets',\n",
              " '_warn_from_fit_status',\n",
              " 'break_ties',\n",
              " 'cache_size',\n",
              " 'class_weight',\n",
              " 'class_weight_',\n",
              " 'classes_',\n",
              " 'coef0',\n",
              " 'coef_',\n",
              " 'decision_function',\n",
              " 'decision_function_shape',\n",
              " 'degree',\n",
              " 'dual_coef_',\n",
              " 'epsilon',\n",
              " 'feature_names_in_',\n",
              " 'fit',\n",
              " 'fit_status_',\n",
              " 'gamma',\n",
              " 'get_params',\n",
              " 'intercept_',\n",
              " 'kernel',\n",
              " 'max_iter',\n",
              " 'n_features_in_',\n",
              " 'n_support_',\n",
              " 'nu',\n",
              " 'predict',\n",
              " 'predict_log_proba',\n",
              " 'predict_proba',\n",
              " 'probA_',\n",
              " 'probB_',\n",
              " 'probability',\n",
              " 'random_state',\n",
              " 'score',\n",
              " 'set_params',\n",
              " 'shape_fit_',\n",
              " 'shrinking',\n",
              " 'support_',\n",
              " 'support_vectors_',\n",
              " 'tol',\n",
              " 'verbose']"
            ]
          },
          "metadata": {},
          "execution_count": 18
        }
      ]
    },
    {
      "cell_type": "code",
      "source": [
        "y_pred = svc_model.predict(X_test)\n",
        "accuracy_score(y_test,y_pred)"
      ],
      "metadata": {
        "colab": {
          "base_uri": "https://localhost:8080/"
        },
        "id": "wurqSsVX4xSx",
        "outputId": "646c899d-b6cc-4b5d-d122-559f39b83f80"
      },
      "execution_count": 19,
      "outputs": [
        {
          "output_type": "execute_result",
          "data": {
            "text/plain": [
              "0.7359307359307359"
            ]
          },
          "metadata": {},
          "execution_count": 19
        }
      ]
    },
    {
      "cell_type": "code",
      "source": [
        "#model tuneing"
      ],
      "metadata": {
        "id": "P5yYIjjm5Btl"
      },
      "execution_count": 20,
      "outputs": []
    },
    {
      "cell_type": "code",
      "source": [
        "svc_params={\"C\": [0.0001,0.001,0.1],\n",
        "            \"gamma\": [0.0001,0.01,0.1]}"
      ],
      "metadata": {
        "id": "_EGupq5n5D1q"
      },
      "execution_count": 24,
      "outputs": []
    },
    {
      "cell_type": "code",
      "source": [
        "svc = SVC()\n",
        "svc_cv_model = GridSearchCV(svc,svc_params,\n",
        "                            cv=10,\n",
        "                            verbose=2)\n",
        "svc_cv_model.fit(X_train,y_train)"
      ],
      "metadata": {
        "colab": {
          "base_uri": "https://localhost:8080/"
        },
        "id": "hvpqX3On5XLo",
        "outputId": "1945187c-f8c6-4e34-bd42-29ddf97b2efd"
      },
      "execution_count": 25,
      "outputs": [
        {
          "output_type": "stream",
          "name": "stdout",
          "text": [
            "Fitting 10 folds for each of 9 candidates, totalling 90 fits\n",
            "[CV] END .............................C=0.0001, gamma=0.0001; total time=   0.0s\n",
            "[CV] END .............................C=0.0001, gamma=0.0001; total time=   0.0s\n",
            "[CV] END .............................C=0.0001, gamma=0.0001; total time=   0.0s\n",
            "[CV] END .............................C=0.0001, gamma=0.0001; total time=   0.0s\n",
            "[CV] END .............................C=0.0001, gamma=0.0001; total time=   0.0s\n",
            "[CV] END .............................C=0.0001, gamma=0.0001; total time=   0.0s\n",
            "[CV] END .............................C=0.0001, gamma=0.0001; total time=   0.0s\n",
            "[CV] END .............................C=0.0001, gamma=0.0001; total time=   0.0s\n",
            "[CV] END .............................C=0.0001, gamma=0.0001; total time=   0.0s\n",
            "[CV] END .............................C=0.0001, gamma=0.0001; total time=   0.0s\n",
            "[CV] END ...............................C=0.0001, gamma=0.01; total time=   0.0s\n",
            "[CV] END ...............................C=0.0001, gamma=0.01; total time=   0.0s\n",
            "[CV] END ...............................C=0.0001, gamma=0.01; total time=   0.0s\n",
            "[CV] END ...............................C=0.0001, gamma=0.01; total time=   0.0s\n",
            "[CV] END ...............................C=0.0001, gamma=0.01; total time=   0.0s\n",
            "[CV] END ...............................C=0.0001, gamma=0.01; total time=   0.0s\n",
            "[CV] END ...............................C=0.0001, gamma=0.01; total time=   0.0s\n",
            "[CV] END ...............................C=0.0001, gamma=0.01; total time=   0.0s\n",
            "[CV] END ...............................C=0.0001, gamma=0.01; total time=   0.0s\n",
            "[CV] END ...............................C=0.0001, gamma=0.01; total time=   0.0s\n",
            "[CV] END ................................C=0.0001, gamma=0.1; total time=   0.0s\n",
            "[CV] END ................................C=0.0001, gamma=0.1; total time=   0.0s\n",
            "[CV] END ................................C=0.0001, gamma=0.1; total time=   0.0s\n",
            "[CV] END ................................C=0.0001, gamma=0.1; total time=   0.0s\n",
            "[CV] END ................................C=0.0001, gamma=0.1; total time=   0.0s\n",
            "[CV] END ................................C=0.0001, gamma=0.1; total time=   0.0s\n",
            "[CV] END ................................C=0.0001, gamma=0.1; total time=   0.0s\n",
            "[CV] END ................................C=0.0001, gamma=0.1; total time=   0.0s\n",
            "[CV] END ................................C=0.0001, gamma=0.1; total time=   0.0s\n",
            "[CV] END ................................C=0.0001, gamma=0.1; total time=   0.0s\n",
            "[CV] END ..............................C=0.001, gamma=0.0001; total time=   0.0s\n",
            "[CV] END ..............................C=0.001, gamma=0.0001; total time=   0.0s\n",
            "[CV] END ..............................C=0.001, gamma=0.0001; total time=   0.0s\n",
            "[CV] END ..............................C=0.001, gamma=0.0001; total time=   0.0s\n",
            "[CV] END ..............................C=0.001, gamma=0.0001; total time=   0.0s\n",
            "[CV] END ..............................C=0.001, gamma=0.0001; total time=   0.0s\n",
            "[CV] END ..............................C=0.001, gamma=0.0001; total time=   0.0s\n",
            "[CV] END ..............................C=0.001, gamma=0.0001; total time=   0.0s\n",
            "[CV] END ..............................C=0.001, gamma=0.0001; total time=   0.0s\n",
            "[CV] END ..............................C=0.001, gamma=0.0001; total time=   0.0s\n",
            "[CV] END ................................C=0.001, gamma=0.01; total time=   0.0s\n",
            "[CV] END ................................C=0.001, gamma=0.01; total time=   0.0s\n",
            "[CV] END ................................C=0.001, gamma=0.01; total time=   0.0s\n",
            "[CV] END ................................C=0.001, gamma=0.01; total time=   0.0s\n",
            "[CV] END ................................C=0.001, gamma=0.01; total time=   0.0s\n",
            "[CV] END ................................C=0.001, gamma=0.01; total time=   0.0s\n",
            "[CV] END ................................C=0.001, gamma=0.01; total time=   0.0s\n",
            "[CV] END ................................C=0.001, gamma=0.01; total time=   0.0s\n",
            "[CV] END ................................C=0.001, gamma=0.01; total time=   0.0s\n",
            "[CV] END ................................C=0.001, gamma=0.01; total time=   0.0s\n",
            "[CV] END .................................C=0.001, gamma=0.1; total time=   0.0s\n",
            "[CV] END .................................C=0.001, gamma=0.1; total time=   0.0s\n",
            "[CV] END .................................C=0.001, gamma=0.1; total time=   0.0s\n",
            "[CV] END .................................C=0.001, gamma=0.1; total time=   0.0s\n",
            "[CV] END .................................C=0.001, gamma=0.1; total time=   0.0s\n",
            "[CV] END .................................C=0.001, gamma=0.1; total time=   0.0s\n",
            "[CV] END .................................C=0.001, gamma=0.1; total time=   0.0s\n",
            "[CV] END .................................C=0.001, gamma=0.1; total time=   0.0s\n",
            "[CV] END .................................C=0.001, gamma=0.1; total time=   0.0s\n",
            "[CV] END .................................C=0.001, gamma=0.1; total time=   0.0s\n",
            "[CV] END ................................C=0.1, gamma=0.0001; total time=   0.0s\n",
            "[CV] END ................................C=0.1, gamma=0.0001; total time=   0.0s\n",
            "[CV] END ................................C=0.1, gamma=0.0001; total time=   0.0s\n",
            "[CV] END ................................C=0.1, gamma=0.0001; total time=   0.0s\n",
            "[CV] END ................................C=0.1, gamma=0.0001; total time=   0.0s\n",
            "[CV] END ................................C=0.1, gamma=0.0001; total time=   0.0s\n",
            "[CV] END ................................C=0.1, gamma=0.0001; total time=   0.0s\n",
            "[CV] END ................................C=0.1, gamma=0.0001; total time=   0.0s\n",
            "[CV] END ................................C=0.1, gamma=0.0001; total time=   0.0s\n",
            "[CV] END ................................C=0.1, gamma=0.0001; total time=   0.0s\n",
            "[CV] END ..................................C=0.1, gamma=0.01; total time=   0.0s\n",
            "[CV] END ..................................C=0.1, gamma=0.01; total time=   0.0s\n",
            "[CV] END ..................................C=0.1, gamma=0.01; total time=   0.0s\n",
            "[CV] END ..................................C=0.1, gamma=0.01; total time=   0.0s\n",
            "[CV] END ..................................C=0.1, gamma=0.01; total time=   0.0s\n",
            "[CV] END ..................................C=0.1, gamma=0.01; total time=   0.0s\n",
            "[CV] END ..................................C=0.1, gamma=0.01; total time=   0.0s\n",
            "[CV] END ..................................C=0.1, gamma=0.01; total time=   0.0s\n",
            "[CV] END ..................................C=0.1, gamma=0.01; total time=   0.0s\n",
            "[CV] END ..................................C=0.1, gamma=0.01; total time=   0.0s\n",
            "[CV] END ...................................C=0.1, gamma=0.1; total time=   0.0s\n",
            "[CV] END ...................................C=0.1, gamma=0.1; total time=   0.0s\n",
            "[CV] END ...................................C=0.1, gamma=0.1; total time=   0.0s\n",
            "[CV] END ...................................C=0.1, gamma=0.1; total time=   0.0s\n",
            "[CV] END ...................................C=0.1, gamma=0.1; total time=   0.0s\n",
            "[CV] END ...................................C=0.1, gamma=0.1; total time=   0.0s\n",
            "[CV] END ...................................C=0.1, gamma=0.1; total time=   0.0s\n",
            "[CV] END ...................................C=0.1, gamma=0.1; total time=   0.0s\n",
            "[CV] END ...................................C=0.1, gamma=0.1; total time=   0.0s\n",
            "[CV] END ...................................C=0.1, gamma=0.1; total time=   0.0s\n"
          ]
        },
        {
          "output_type": "execute_result",
          "data": {
            "text/plain": [
              "GridSearchCV(cv=10, estimator=SVC(),\n",
              "             param_grid={'C': [0.0001, 0.001, 0.1],\n",
              "                         'gamma': [0.0001, 0.01, 0.1]},\n",
              "             verbose=2)"
            ]
          },
          "metadata": {},
          "execution_count": 25
        }
      ]
    },
    {
      "cell_type": "code",
      "source": [
        "print(\"best params\" + str(svc_cv_model.best_params_))"
      ],
      "metadata": {
        "colab": {
          "base_uri": "https://localhost:8080/"
        },
        "id": "pUzOr9wd5uAq",
        "outputId": "01e10f1a-b21b-4e78-9c93-434cc9de4287"
      },
      "execution_count": 26,
      "outputs": [
        {
          "output_type": "stream",
          "name": "stdout",
          "text": [
            "best params{'C': 0.1, 'gamma': 0.0001}\n"
          ]
        }
      ]
    },
    {
      "cell_type": "code",
      "source": [
        "svc_tuned = SVC(C=0.1,gamma = 0.0001).fit(X_train,y_train)"
      ],
      "metadata": {
        "id": "gohhjrou53l8"
      },
      "execution_count": 27,
      "outputs": []
    },
    {
      "cell_type": "code",
      "source": [
        "y_pred = svc_tuned.predict(X_test)\n",
        "accuracy_score(y_test,y_pred)"
      ],
      "metadata": {
        "colab": {
          "base_uri": "https://localhost:8080/"
        },
        "id": "XUb51I4Z6ARC",
        "outputId": "d0e107ba-0da2-40c9-e10c-4c32077adf1e"
      },
      "execution_count": 28,
      "outputs": [
        {
          "output_type": "execute_result",
          "data": {
            "text/plain": [
              "0.7359307359307359"
            ]
          },
          "metadata": {},
          "execution_count": 28
        }
      ]
    },
    {
      "cell_type": "code",
      "source": [],
      "metadata": {
        "id": "3aAwO-iW6Hjt"
      },
      "execution_count": null,
      "outputs": []
    }
  ]
}
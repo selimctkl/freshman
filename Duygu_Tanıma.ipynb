{
  "nbformat": 4,
  "nbformat_minor": 0,
  "metadata": {
    "colab": {
      "provenance": [],
      "private_outputs": true,
      "authorship_tag": "ABX9TyPvIq7Qd1aGmYYOMPPEIK4Y",
      "include_colab_link": true
    },
    "kernelspec": {
      "name": "python3",
      "display_name": "Python 3"
    },
    "language_info": {
      "name": "python"
    },
    "accelerator": "GPU",
    "gpuClass": "standard"
  },
  "cells": [
    {
      "cell_type": "markdown",
      "metadata": {
        "id": "view-in-github",
        "colab_type": "text"
      },
      "source": [
        "<a href=\"https://colab.research.google.com/github/selimctkl/freshman/blob/main/Duygu_Tan%C4%B1ma.ipynb\" target=\"_parent\"><img src=\"https://colab.research.google.com/assets/colab-badge.svg\" alt=\"Open In Colab\"/></a>"
      ]
    },
    {
      "cell_type": "code",
      "execution_count": null,
      "metadata": {
        "id": "G55wKHUOUfvx"
      },
      "outputs": [],
      "source": [
        "from __future__ import print_function\n",
        "import keras\n",
        "import tensorflow as tf\n",
        "from keras.datasets import mnist\n",
        "from keras.models import load_model\n",
        "from keras.models import Sequential\n",
        "from keras.layers import Dense, Dropout, Flatten\n",
        "from keras.layers import Conv2D, MaxPooling2D\n",
        "#from keras.utils import to_categorical\n",
        "from tensorflow.keras.utils import to_categorical\n",
        "from tensorflow.keras import optimizers\n",
        "from keras import backend as K\n",
        "from tensorflow.python.client import device_lib\n",
        "import matplotlib.pyplot as plt\n",
        "import pandas as pd\n",
        "import numpy as np\n",
        "import seaborn as sns"
      ]
    },
    {
      "cell_type": "code",
      "source": [
        "import tensorflow as tf"
      ],
      "metadata": {
        "id": "eNVgiPnzfDgH"
      },
      "execution_count": null,
      "outputs": []
    },
    {
      "cell_type": "code",
      "source": [
        "data = pd.read_csv(\"fer2013.csv\")"
      ],
      "metadata": {
        "id": "AGq1VNnOUm1Y"
      },
      "execution_count": null,
      "outputs": []
    },
    {
      "cell_type": "code",
      "source": [
        "data.shape"
      ],
      "metadata": {
        "id": "jvualWtJ7rfq"
      },
      "execution_count": null,
      "outputs": []
    },
    {
      "cell_type": "code",
      "source": [
        "data[\"Usage\"].value_counts()"
      ],
      "metadata": {
        "id": "tVERsvuwVwSb"
      },
      "execution_count": null,
      "outputs": []
    },
    {
      "cell_type": "code",
      "source": [
        "data.head()"
      ],
      "metadata": {
        "id": "ii2CALz5WAhQ"
      },
      "execution_count": null,
      "outputs": []
    },
    {
      "cell_type": "code",
      "source": [
        "train_data = data[data.Usage == \"Training\"]"
      ],
      "metadata": {
        "id": "8MLk8iLZWSU5"
      },
      "execution_count": null,
      "outputs": []
    },
    {
      "cell_type": "code",
      "source": [
        "train_data"
      ],
      "metadata": {
        "id": "ru5rr1jghDkk"
      },
      "execution_count": null,
      "outputs": []
    },
    {
      "cell_type": "code",
      "source": [
        "train_pixels = train_data.pixels.str.split(\" \").tolist()\n",
        "\n",
        "train_pixels = pd.DataFrame(train_pixels, dtype = int)\n",
        "train_images = train_pixels.values\n",
        "train_images = train_images.astype(np.float)\n"
      ],
      "metadata": {
        "id": "XdtTkOjKWzVF"
      },
      "execution_count": null,
      "outputs": []
    },
    {
      "cell_type": "code",
      "source": [
        "def show(img):\n",
        "    show_image = img.reshape((48,48))\n",
        "    plt.axis(\"off\")\n",
        "    plt.imshow(show_image, cmap = \"gray\")"
      ],
      "metadata": {
        "id": "N8T0oHJAW1KU"
      },
      "execution_count": null,
      "outputs": []
    },
    {
      "cell_type": "code",
      "source": [
        "show(train_images[7])"
      ],
      "metadata": {
        "id": "oYggWYzcX1XJ"
      },
      "execution_count": null,
      "outputs": []
    },
    {
      "cell_type": "code",
      "source": [
        "train_labels_flat = train_data[\"emotion\"].values.ravel()\n",
        "train_labels_count = np.unique(train_labels_flat).shape[0]\n",
        "print(\"Farklı Yüz İfadeleri sayısı %d\" %train_labels_count)"
      ],
      "metadata": {
        "id": "sh8q2f-2ipgw"
      },
      "execution_count": null,
      "outputs": []
    },
    {
      "cell_type": "code",
      "source": [
        "def dense_to_one_hot(labels_dense, num_classes):\n",
        "    num_labels = labels_dense.shape[0]\n",
        "    index_offset = np.arange(num_labels) * num_classes\n",
        "    labels_one_hot = np.zeros((num_labels, num_classes))\n",
        "    labels_one_hot.flat[index_offset + labels_dense.ravel()] = 1\n",
        "    return labels_one_hot"
      ],
      "metadata": {
        "id": "uInqo4Ukf1UB"
      },
      "execution_count": null,
      "outputs": []
    },
    {
      "cell_type": "code",
      "source": [
        "y_train = dense_to_one_hot(train_labels_flat, train_labels_count)\n",
        "y_train = y_train.astype(np.uint8)\n",
        "print(y_train.shape)"
      ],
      "metadata": {
        "id": "FDuMn99-gnSV"
      },
      "execution_count": null,
      "outputs": []
    },
    {
      "cell_type": "code",
      "source": [
        "np.unique(data[\"Usage\"].values.ravel())\n",
        "print(\"test veri seti örnek sayı %d\" %(len(data[data.Usage == \"PublicTest\"])))"
      ],
      "metadata": {
        "id": "Rwy3KRrsg7BL"
      },
      "execution_count": null,
      "outputs": []
    },
    {
      "cell_type": "code",
      "source": [
        "test_data = data[data.Usage == \"PublicTest\"]\n",
        "test_pixels = test_data.pixels.str.split(\" \").tolist()\n",
        "test_pixels = pd.DataFrame(test_pixels, dtype=int)\n",
        "test_images = test_pixels.values\n",
        "test_images = test_images.astype(np.float)\n",
        "print(test_images)\n",
        "      "
      ],
      "metadata": {
        "id": "1k8MTHO_jDAs"
      },
      "execution_count": null,
      "outputs": []
    },
    {
      "cell_type": "code",
      "source": [
        "show(test_images[6])"
      ],
      "metadata": {
        "id": "JWBTVFhVlKj7"
      },
      "execution_count": null,
      "outputs": []
    },
    {
      "cell_type": "code",
      "source": [
        "test_labels_flat = test_data[\"emotion\"].values.ravel()\n",
        "test_labels_count = np.unique(test_labels_flat).shape[0]\n",
        "\n",
        "y_test = dense_to_one_hot(test_labels_flat, test_labels_count)\n",
        "\n",
        "print(y_test.shape)"
      ],
      "metadata": {
        "id": "DQTdsKS0lOwq"
      },
      "execution_count": null,
      "outputs": []
    },
    {
      "cell_type": "code",
      "source": [
        "plt.figure(0, figsize=(12,6))\n",
        "for i in range(1,13):\n",
        "    plt.subplot(3,4,i)\n",
        "    plt.axis(\"off\")\n",
        "\n",
        "    image = test_images[i].reshape(48,48)\n",
        "    plt.imshow(image, cmap=\"gray\")\n",
        "\n",
        "plt.tight_layout( pad =1 )\n",
        "plt.show()"
      ],
      "metadata": {
        "id": "44VZOUzAmXG1"
      },
      "execution_count": null,
      "outputs": []
    },
    {
      "cell_type": "code",
      "source": [
        "from keras.layers.core.activation import Activation\n",
        "Activation,\n",
        "from keras.layers.normalization.batch_normalization_v1 import BatchNormalization\n",
        "model = Sequential()\n",
        "\n",
        "# katman 1\n",
        "\n",
        "model.add(Conv2D(64, 3, data_format = \"channels_last\", kernel_initializer= \"he_normal\", input_shape = (48, 48, 1)))\n",
        "model.add(BatchNormalization())\n",
        "model.add(Activation(\"relu\"))\n",
        "\n",
        "# katman 2\n",
        "\n",
        "model.add(Conv2D(64, 3))\n",
        "model.add(BatchNormalization())\n",
        "model.add(Activation(\"relu\"))\n",
        "model.add(MaxPooling2D(pool_size=(2,2), strides=2))\n",
        "model.add(Dropout(0.6))\n",
        "\n",
        "# katman 3\n",
        "\n",
        "model.add(Conv2D(32, 3))\n",
        "model.add(BatchNormalization())\n",
        "model.add(Activation(\"relu\"))\n",
        "\n",
        "# katman 4\n",
        "\n",
        "model.add(Conv2D(32, 3))\n",
        "model.add(BatchNormalization())\n",
        "model.add(Activation(\"relu\"))\n",
        "\n",
        "# katman 5\n",
        "\n",
        "model.add(Conv2D(32, 3))\n",
        "model.add(BatchNormalization())\n",
        "model.add(Activation(\"relu\"))\n",
        "model.add(MaxPooling2D(pool_size = (2,2), strides=2))\n",
        "model.add(Dropout(0.6))\n",
        "\n",
        "# tam bağlantı\n",
        "\n",
        "model.add(Flatten())\n",
        "model.add(Dense(128))\n",
        "model.add(BatchNormalization())\n",
        "model.add(Activation(\"relu\"))\n",
        "model.add(Dropout(0.6))\n",
        "\n",
        "# çıktı katman\n",
        "\n",
        "model.add(Dense(7))\n",
        "model.add(Activation(\"softmax\"))\n",
        "model.compile(loss = \"categorical_crossentropy\", optimizer = \"adam\", metrics = [\"accuracy\"])\n",
        "model.summary()\n"
      ],
      "metadata": {
        "id": "5TRXvnWSpdnN"
      },
      "execution_count": null,
      "outputs": []
    },
    {
      "cell_type": "code",
      "source": [
        "x_train = train_images.reshape(-1, 48, 48, 1)\n",
        "x_test = test_images.reshape(-1, 48, 48, 1)\n",
        "\n",
        "print(\"Train:\", x_train.shape)\n",
        "print(\"Test\", x_test.shape)"
      ],
      "metadata": {
        "id": "bc7nZIvA7Wi-"
      },
      "execution_count": null,
      "outputs": []
    },
    {
      "cell_type": "code",
      "source": [
        "print(\"Train:\", y_train.shape)\n",
        "print(\"Test:\", y_test.shape)\n"
      ],
      "metadata": {
        "id": "gU_TCnhf78U2"
      },
      "execution_count": null,
      "outputs": []
    },
    {
      "cell_type": "code",
      "source": [
        "from keras.callbacks import ModelCheckpoint\n",
        "checkpointer = ModelCheckpoint(filepath =  \"data/face_model.h5\", verbose = 1, save_best_only = True)\n",
        "epochs = 10\n",
        "batchSize = 100\n",
        "hist = model.fit(x_train, y_train,\n",
        "                 epochs = epochs,\n",
        "                 shuffle = True,\n",
        "                 batch_size = batchSize,\n",
        "                 validation_data =(x_test, y_test),\n",
        "                 callbacks = [checkpointer], verbose = 2)\n",
        "\n"
      ],
      "metadata": {
        "id": "GJtUG_eK8btW"
      },
      "execution_count": null,
      "outputs": []
    },
    {
      "cell_type": "code",
      "source": [
        "plt.figure(figsize = (14, 3))\n",
        "plt.subplot(1, 2, 1)\n",
        "plt.suptitle(\"Eğitim\", fontsize = 10)\n",
        "plt.ylabel(\"Loss\", fontsize= 16)\n",
        "plt.plot(hist.history[\"loss\"], color = \"b\", label = \"Training Loss\")\n",
        "plt.plot(hist.history[\"val_loss\"], color = \"r\", label = \"validation Loss\")\n",
        "plt.legend(loc = \"upper right\")\n",
        "\n",
        "plt.subplot(1, 2, 2)\n",
        "plt.suptitle(\"Accuracy\", fontsize = 16)\n",
        "plt.plot(hist.history[\"accuracy\"], color = \"b\", label = \"Training Accuracy\")\n",
        "plt.plot(hist.history[\"val_accuracy\"], color = \"r\", label = \"validation Accuracy\")\n",
        "plt.legend(loc = \"lower right\")\n",
        "plt.show()"
      ],
      "metadata": {
        "id": "GTRn7VmVBOdI"
      },
      "execution_count": null,
      "outputs": []
    },
    {
      "cell_type": "code",
      "source": [
        "test = data[[\"emotion\", \"pixels\"]][data[\"Usage\"] == \"PrivateTest\"]\n",
        "test[\"pixels\"] = test[\"pixels\"].apply(lambda im: np.fromstring(im, sep=\" \"))\n",
        "test.head()"
      ],
      "metadata": {
        "id": "JRpBWuiJEmnS"
      },
      "execution_count": null,
      "outputs": []
    },
    {
      "cell_type": "code",
      "source": [
        "x_test_private = np.vstack(test[\"pixels\"].values)\n",
        "y_test_private = np.array(test[\"emotion\"])"
      ],
      "metadata": {
        "id": "SfBZAKWCGKNz"
      },
      "execution_count": null,
      "outputs": []
    },
    {
      "cell_type": "code",
      "source": [
        "pip install np_utils\n",
        "from keras.utils.np_utils import to_categorical"
      ],
      "metadata": {
        "id": "sim_eVOgcBwM"
      },
      "execution_count": null,
      "outputs": []
    },
    {
      "cell_type": "code",
      "source": [
        "from keras import utils"
      ],
      "metadata": {
        "id": "GDKIESeXcdDR"
      },
      "execution_count": null,
      "outputs": []
    },
    {
      "cell_type": "code",
      "source": [
        "x_test_private = x_test_private.reshape(-1, 48, 48, 1)\n",
        "y_test_private = utils.to_categorical(y_test_private)\n",
        "x_test_private.shape, y_test_private.shape "
      ],
      "metadata": {
        "id": "hRsEU8SCGide"
      },
      "execution_count": null,
      "outputs": []
    },
    {
      "cell_type": "code",
      "source": [
        "score = model.evaluate(x_test_private, y_test_private, verbose = 0)\n",
        "print(\"PrivateTest üzerinde doğruluk başarımı:\" , score)"
      ],
      "metadata": {
        "id": "oBt_pOFCbrho"
      },
      "execution_count": null,
      "outputs": []
    },
    {
      "cell_type": "code",
      "source": [
        "\n",
        "img = keras.utils.image_utils.load_img(\"biometric.JPG\", grayscale=True, target_size=(48, 48))\n",
        "\n",
        "x = keras.utils.image_utils.img_to_array(img)\n",
        "x = np.expand_dims(x, axis = 0)\n",
        "\n",
        "x /= 255\n",
        "\n",
        "custom = model.predict(x)\n",
        "#Duygu Analizi(custom[0])\n",
        "\n",
        "\n",
        "#1\n",
        "objects = ('kızgın', 'nefret', 'korku', 'mutlu', 'üzgün', 'şaşırma', 'doğal')\n",
        "y_pos = np.arange(len(objects))\n",
        "    \n",
        "plt.bar(y_pos, custom[0], align='center', alpha=0.5, color='g')\n",
        "plt.xticks(y_pos, objects)\n",
        "plt.ylabel('yüzde')\n",
        "plt.title('duygu')\n",
        "plt.show()\n",
        "\n",
        "#2\n",
        "x = np.array(x, 'float32')\n",
        "x = x.reshape([48, 48]);\n",
        "plt.axis('off')\n",
        "plt.gray()\n",
        "plt.imshow(img)\n",
        "\n",
        "plt.show()\n",
        "#----------"
      ],
      "metadata": {
        "id": "2kVQVePpcwcT"
      },
      "execution_count": null,
      "outputs": []
    },
    {
      "cell_type": "code",
      "source": [],
      "metadata": {
        "id": "vc3O5F7nfzPK"
      },
      "execution_count": null,
      "outputs": []
    }
  ]
}
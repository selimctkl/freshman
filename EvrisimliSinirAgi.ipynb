{
  "nbformat": 4,
  "nbformat_minor": 0,
  "metadata": {
    "colab": {
      "provenance": [],
      "authorship_tag": "ABX9TyN08w/xE3F4DRNJj6WcyI4Q",
      "include_colab_link": true
    },
    "kernelspec": {
      "name": "python3",
      "display_name": "Python 3"
    },
    "language_info": {
      "name": "python"
    }
  },
  "cells": [
    {
      "cell_type": "markdown",
      "metadata": {
        "id": "view-in-github",
        "colab_type": "text"
      },
      "source": [
        "<a href=\"https://colab.research.google.com/github/selimctkl/freshman/blob/main/EvrisimliSinirAgi.ipynb\" target=\"_parent\"><img src=\"https://colab.research.google.com/assets/colab-badge.svg\" alt=\"Open In Colab\"/></a>"
      ]
    },
    {
      "cell_type": "code",
      "execution_count": null,
      "metadata": {
        "id": "h5uLwlOkum1g"
      },
      "outputs": [],
      "source": [
        "import pandas as pd\n",
        "import numpy as np\n",
        "import matplotlib.pyplot as plt\n",
        "import h5py \n",
        "\n",
        "plt.rcParams[\"figure.figsize\"] = (5.0, 4.0)\n",
        "plt.rcParams[\"image.interpolation\"]=\"nearest\"\n",
        "plt.rcParams[\"image.cmap\"]=\"gray\"\n",
        "\n",
        "np.random.seed(1)\n",
        "\n",
        "\n",
        "from keras.models import Sequential\n",
        "from keras.layers import Dense, Activation\n",
        "from keras.callbacks import ModelCheckpoint\n",
        "from keras.optimizers import Adam"
      ]
    },
    {
      "cell_type": "code",
      "source": [
        "def zero_pad(X, pad):\n",
        "  X_pad = np.pad(X, ((0,0), (pad, pad), (pad,pad), (0,0)), 'constant',  constant_values = 0)\n",
        "  return X_pad\n"
      ],
      "metadata": {
        "id": "b0sT_hGxvvEz"
      },
      "execution_count": null,
      "outputs": []
    },
    {
      "cell_type": "code",
      "source": [
        "np.random.seed(1)\n",
        "x=np.random.randn(4,3,3,2)\n",
        "x_pad = zero_pad(x,2)\n",
        "print (\"x.shape =\", x.shape)\n",
        "print (\"x_pad.shape =\", x_pad.shape)\n",
        "print (\"x[1,1] =\", x[1,1])\n",
        "print (\"x_pad[1,1] =\", x_pad[1,1])\n",
        "\n",
        "fig, axarr = plt.subplots(1, 2)\n",
        "axarr[0].set_title('x le')\n",
        "axarr[0].imshow(x[0,:,:,0])\n",
        "axarr[1].set_title('x pad kısım')\n",
        "axarr[1].imshow(x_pad[0,:,:,0])"
      ],
      "metadata": {
        "colab": {
          "base_uri": "https://localhost:8080/",
          "height": 426
        },
        "id": "afvKY5fUwO2S",
        "outputId": "1d1ab72f-54f6-4a46-9bfc-2e16baeff746"
      },
      "execution_count": null,
      "outputs": [
        {
          "output_type": "stream",
          "name": "stdout",
          "text": [
            "x.shape = (4, 3, 3, 2)\n",
            "x_pad.shape = (4, 7, 7, 2)\n",
            "x[1,1] = [[ 0.90085595 -0.68372786]\n",
            " [-0.12289023 -0.93576943]\n",
            " [-0.26788808  0.53035547]]\n",
            "x_pad[1,1] = [[0. 0.]\n",
            " [0. 0.]\n",
            " [0. 0.]\n",
            " [0. 0.]\n",
            " [0. 0.]\n",
            " [0. 0.]\n",
            " [0. 0.]]\n"
          ]
        },
        {
          "output_type": "execute_result",
          "data": {
            "text/plain": [
              "<matplotlib.image.AxesImage at 0x7f0bee492190>"
            ]
          },
          "metadata": {},
          "execution_count": 4
        },
        {
          "output_type": "display_data",
          "data": {
            "text/plain": [
              "<Figure size 360x288 with 2 Axes>"
            ],
            "image/png": "[encoded data removed]"
          },
          "metadata": {
            "needs_background": "light"
          }
        }
      ]
    },
    {
      "cell_type": "code",
      "source": [
        "\n",
        "def conv_single_step(a_slice_prev, W,b):\n",
        "  \n",
        "  s = np.multiply(a_slice_prev, W)\n",
        "  \n",
        "  Z = np.sum(s)\n",
        "  \n",
        "  Z = float(b)+Z\n",
        "  \n",
        "  return Z"
      ],
      "metadata": {
        "id": "TCrXKlIzw8IO"
      },
      "execution_count": null,
      "outputs": []
    },
    {
      "cell_type": "code",
      "source": [
        "np.random.seed(1)\n",
        "a_slice_prev = np.random.randn(4,4,3)\n",
        "w = np.random.randn(4,4,3)\n",
        "b = np.random.randn(1,1,1)\n",
        "Z = conv_single_step(a_slice_prev, w, b)\n",
        "print(\"Z=\",Z)\n",
        "\n"
      ],
      "metadata": {
        "colab": {
          "base_uri": "https://localhost:8080/"
        },
        "id": "i2CqNR2_x_mJ",
        "outputId": "073cd756-72ef-4099-9327-adc291048a69"
      },
      "execution_count": null,
      "outputs": [
        {
          "output_type": "stream",
          "name": "stdout",
          "text": [
            "Z= -6.999089450680221\n"
          ]
        }
      ]
    },
    {
      "cell_type": "code",
      "source": [],
      "metadata": {
        "id": "Xn3MaJsTyK46"
      },
      "execution_count": null,
      "outputs": []
    },
    {
      "cell_type": "code",
      "source": [
        "\n",
        "def conv_forward(A_prev, W, b, hparameters):\n",
        "  \n",
        "    (m, n_H_prev, n_W_prev, n_C_prev) = A_prev.shape\n",
        "   \n",
        "    (f, f, n_C_prev, n_C) = W.shape\n",
        "    \n",
        "  \n",
        "    stride = hparameters['stride']\n",
        "    pad = hparameters['pad']\n",
        "  \n",
        "    n_H = int(((n_H_prev-f+2*pad)/stride)+1)\n",
        "    n_W = int(((n_W_prev-f+2*pad)/stride)+1)\n",
        "    \n",
        "    Z = np.zeros([m,n_H,n_W,n_C])\n",
        "    \n",
        " \n",
        "    A_prev_pad = zero_pad(A_prev, pad)\n",
        "    \n",
        "    for i in range(m):                         \n",
        "        a_prev_pad = A_prev_pad[i]              \n",
        "        for h in range(n_H):                   \n",
        "            for w in range(n_W):                \n",
        "                for c in range(n_C):            \n",
        "                    \n",
        "                    vert_start = h*stride\n",
        "                    vert_end = vert_start + f\n",
        "                    horiz_start = w*stride\n",
        "                    horiz_end = horiz_start + f\n",
        "                    \n",
        "                    \n",
        "                    a_slice_prev = a_prev_pad[vert_start:vert_end, horiz_start:horiz_end]\n",
        "                    \n",
        "                   \n",
        "                    Z[i, h, w, c] = conv_single_step(a_slice_prev, W[...,c], b[...,c])\n",
        "                                            \n",
        "   \n",
        "    assert(Z.shape == (m, n_H, n_W, n_C))\n",
        "    \n",
        "   \n",
        "    cache = (A_prev, W, b, hparameters)\n",
        "    \n",
        "    return Z, cache"
      ],
      "metadata": {
        "id": "DsSo3wbU2EBm"
      },
      "execution_count": null,
      "outputs": []
    },
    {
      "cell_type": "code",
      "source": [
        "\n",
        "np.random.seed(1)\n",
        "A_prev = np.random.randn(10, 4, 4, 3)\n",
        "W = np.random.randn(2, 2, 3, 8)\n",
        "b = np.random.randn(1, 1, 1, 8)\n",
        "\n",
        "hparameters = {\"pad\" :2,\n",
        "              \"stride\" :2}\n",
        "\n",
        "Z, cache_conv = conv_forward(A_prev, W, b, hparameters)\n",
        "\n",
        "print(\"Z'nin ort =\", np.mean(Z))\n",
        "print(\"Z[3, 2, 1] =\", Z[3, 2, 1])\n",
        "print(\"cache_conv[0][1][2][3] =\", cache_conv[0][1][2][3])"
      ],
      "metadata": {
        "colab": {
          "base_uri": "https://localhost:8080/"
        },
        "id": "Go0w6H_P1tSi",
        "outputId": "8d784e4b-5f68-4106-a817-6f62f5b36a8b"
      },
      "execution_count": null,
      "outputs": [
        {
          "output_type": "stream",
          "name": "stdout",
          "text": [
            "Z'nin ort = 0.048995203528855794\n",
            "Z[3, 2, 1] = [-0.61490741 -6.7439236  -2.55153897  1.75698377  3.56208902  0.53036437\n",
            "  5.18531798  8.75898442]\n",
            "cache_conv[0][1][2][3] = [-0.20075807  0.18656139  0.41005165]\n"
          ]
        }
      ]
    },
    {
      "cell_type": "code",
      "source": [
        "def pool_forward(A_prev, hparameters,mode = \"max\"):\n",
        "  \n",
        "  (m, n_H_prev, n_W_prev, n_C_prev) = A_prev.shape\n",
        "  \n",
        "  f = hparameters[\"f\"]\n",
        "  stride = hparameters[\"stride\"]\n",
        "  \n",
        "  n_H = int(1 + (n_H_prev -f)/ stride)\n",
        "  n_W = int(1 + (n_W_prev -f)/ stride)\n",
        "  n_C = n_C_prev\n",
        "  \n",
        "  A = np.zeros((m, n_H, n_W, n_C))\n",
        "  \n",
        "  for i in range(m):\n",
        "    for h in range(n_H):\n",
        "      for w in range(n_W):\n",
        "        for c in range(n_C):\n",
        "          \n",
        "          vert_start = h*stride\n",
        "          vert_end = vert_start +f\n",
        "          horiz_start = w*stride\n",
        "          horiz_end = horiz_start +f\n",
        "          \n",
        "          a_prev_slice = A_prev[i, vert_start:vert_end, horiz_start:horiz_end, c]\n",
        "          \n",
        "          if mode == \"max\":\n",
        "            A[i,h, w, c] = np.max(a_prev_slice)\n",
        "          elif mode == \"average\":\n",
        "            A[i,h, w, c] = np.mean(a_prev_slice)\n",
        "            \n",
        "  cache = (A_prev, hparameters)\n",
        "  \n",
        "  assert(A.shape == (m, n_H, n_W, n_C))\n",
        "  \n",
        "  return A, cache\n",
        "    "
      ],
      "metadata": {
        "id": "Pjsw4IdR2FjB"
      },
      "execution_count": null,
      "outputs": []
    },
    {
      "cell_type": "code",
      "source": [
        "np.random.seed(1)\n",
        "\n",
        "A_prev = np.random.randn(2, 4, 4, 3)\n",
        "hparameters = {\"stride\" : 2, \"f\" :3}\n",
        "\n",
        "A, cache = pool_forward(A_prev, hparameters)\n",
        "\n",
        "print(\"mod = max\")\n",
        "print(\"A= \", A)\n",
        "\n",
        "A, cache = pool_forward(A_prev, hparameters, mode = \"average\")\n",
        "\n",
        "print(\"mod = average\")\n",
        "print(\"A =\", A)\n",
        "     "
      ],
      "metadata": {
        "colab": {
          "base_uri": "https://localhost:8080/"
        },
        "id": "Of6t8rT23evj",
        "outputId": "f9ae139f-9906-47bb-fedc-541063696cf5"
      },
      "execution_count": null,
      "outputs": [
        {
          "output_type": "stream",
          "name": "stdout",
          "text": [
            "mod = max\n",
            "A=  [[[[1.74481176 0.86540763 1.13376944]]]\n",
            "\n",
            "\n",
            " [[[1.13162939 1.51981682 2.18557541]]]]\n",
            "mod = average\n",
            "A = [[[[ 0.02105773 -0.20328806 -0.40389855]]]\n",
            "\n",
            "\n",
            " [[[-0.22154621  0.51716526  0.48155844]]]]\n"
          ]
        }
      ]
    },
    {
      "cell_type": "code",
      "source": [
        "def conv_backward(dZ, cache):\n",
        "    \n",
        "    \n",
        "    \n",
        "    (A_prev, W, b, hparameters) = cache\n",
        "    \n",
        "   \n",
        "    (m, n_H_prev, n_W_prev, n_C_prev) = A_prev.shape\n",
        "    \n",
        " \n",
        "    (f, f, n_C_prev, n_C) = W.shape\n",
        "    \n",
        "   \n",
        "    stride = hparameters['stride']\n",
        "    pad = hparameters['pad']\n",
        "    \n",
        "\n",
        "    (m, n_H, n_W, n_C) = dZ.shape\n",
        "    \n",
        "    dA_prev = np.zeros((m, n_H_prev, n_W_prev, n_C_prev))                           \n",
        "    dW = np.zeros((f,f, n_C_prev, n_C))\n",
        "    db = np.zeros((1, 1, 1, n_C))\n",
        "\n",
        "   \n",
        "    A_prev_pad = zero_pad(A_prev, pad)\n",
        "    dA_prev_pad = zero_pad(dA_prev, pad)\n",
        "    \n",
        "    for i in range(m):                       \n",
        "        \n",
        "       \n",
        "        a_prev_pad = A_prev_pad[i]\n",
        "        da_prev_pad = dA_prev_pad[i]\n",
        "        \n",
        "        for h in range(n_H):                  \n",
        "            for w in range(n_W):               \n",
        "                for c in range(n_C):        \n",
        "                    \n",
        "                   \n",
        "                    vert_start = h\n",
        "                    vert_end = vert_start + f\n",
        "                    horiz_start = w\n",
        "                    horiz_end = horiz_start + f\n",
        "                    \n",
        "                   \n",
        "                    a_slice = a_prev_pad[vert_start:vert_end, horiz_start:horiz_end, :]\n",
        "\n",
        "                    \n",
        "                    da_prev_pad[vert_start:vert_end, horiz_start:horiz_end, :] += W[:,:,:,c] * dZ[i, h, w, c]\n",
        "                    dW[:,:,:,c] += a_slice * dZ[i, h, w, c]\n",
        "                    db[:,:,:,c] += dZ[i, h, w, c]\n",
        "                    \n",
        "        dA_prev[i, :, :, :] = da_prev_pad[pad:-pad, pad:-pad, :]\n",
        "    \n",
        "   \n",
        "    assert(dA_prev.shape == (m, n_H_prev, n_W_prev, n_C_prev))\n",
        "    \n",
        "    return dA_prev, dW, db"
      ],
      "metadata": {
        "id": "YK5sbZHF3nbR"
      },
      "execution_count": null,
      "outputs": []
    },
    {
      "cell_type": "code",
      "source": [
        "\n",
        "np.random.seed(1)\n",
        "dA, dW, db = conv_backward(Z, cache_conv)\n",
        "\n",
        "print(\"dA ortalama =\", np.mean(dA))\n",
        "print(\"dW ortalama =\", np.mean(dW))\n",
        "print(\"db ortalama =\", np.mean(db))"
      ],
      "metadata": {
        "colab": {
          "base_uri": "https://localhost:8080/"
        },
        "id": "sTu2d7VR4rB-",
        "outputId": "d11d9b3d-b152-48cf-b8d4-e9fe44effb6d"
      },
      "execution_count": null,
      "outputs": [
        {
          "output_type": "stream",
          "name": "stdout",
          "text": [
            "dA ortalama = 0.6347704472654743\n",
            "dW ortalama = 1.5572657428497354\n",
            "db ortalama = 7.839232564616838\n"
          ]
        }
      ]
    },
    {
      "cell_type": "code",
      "source": [
        "\n",
        "def create_mask_from_window(x):\n",
        "  \n",
        "  mask = x == np.max(x)\n",
        "  \n",
        "  return mask"
      ],
      "metadata": {
        "id": "0_JjbVkp4t3F"
      },
      "execution_count": null,
      "outputs": []
    },
    {
      "cell_type": "code",
      "source": [
        "\n",
        "np.random.seed(1)\n",
        "x = np.random.randn(2,3)\n",
        "mask = create_mask_from_window(x)\n",
        "\n",
        "print('x =', x)\n",
        "print('maske =', mask)"
      ],
      "metadata": {
        "colab": {
          "base_uri": "https://localhost:8080/"
        },
        "id": "vBtokgb-4v2V",
        "outputId": "af11d357-4c61-41bc-fc8d-10aa8f817d31"
      },
      "execution_count": null,
      "outputs": [
        {
          "output_type": "stream",
          "name": "stdout",
          "text": [
            "x = [[ 1.62434536 -0.61175641 -0.52817175]\n",
            " [-1.07296862  0.86540763 -2.3015387 ]]\n",
            "maske = [[ True False False]\n",
            " [False False False]]\n"
          ]
        }
      ]
    },
    {
      "cell_type": "code",
      "source": [
        "\n",
        "def distribute_value(dz, shape):\n",
        "  \n",
        "   \n",
        "    (n_H, n_W) = shape\n",
        "    \n",
        "   \n",
        "    average = dz / (n_H * n_W)\n",
        "    \n",
        "   \n",
        "    a =  np.ones(shape) * average\n",
        "    \n",
        "    return a"
      ],
      "metadata": {
        "id": "TpCrNd934yX1"
      },
      "execution_count": null,
      "outputs": []
    },
    {
      "cell_type": "code",
      "source": [
        "a = distribute_value(2, (2,2))\n",
        "\n",
        "print('Dağıtılmış değer =', a)\n",
        "     "
      ],
      "metadata": {
        "colab": {
          "base_uri": "https://localhost:8080/"
        },
        "id": "esg_Pclx5BlP",
        "outputId": "b349039c-55f4-474d-917d-e3c2fa08c5dc"
      },
      "execution_count": null,
      "outputs": [
        {
          "output_type": "stream",
          "name": "stdout",
          "text": [
            "Dağıtılmış değer = [[0.5 0.5]\n",
            " [0.5 0.5]]\n"
          ]
        }
      ]
    },
    {
      "cell_type": "code",
      "source": [
        "def pool_backward(dA, cache, mode= 'max'):\n",
        "  \n",
        "\n",
        "    (A_prev, hparameters) = cache\n",
        "    \n",
        "  \n",
        "    stride = hparameters['stride']\n",
        "    f = hparameters['f']\n",
        "    \n",
        "   \n",
        "    m, n_H_prev, n_W_prev, n_C_prev = A_prev.shape\n",
        "    m, n_H, n_W, n_C = dA.shape\n",
        "    \n",
        "   \n",
        "    dA_prev = np.zeros(A_prev.shape)\n",
        " \n",
        "    for i in range(m):                      \n",
        "        \n",
        "       \n",
        "        a_prev = A_prev[i]\n",
        "        \n",
        "        for h in range(n_H):                   \n",
        "            for w in range(n_W):             \n",
        "                for c in range(n_C):           \n",
        "                    \n",
        "                    \n",
        "                    vert_start = h\n",
        "                    vert_end = vert_start + f\n",
        "                    horiz_start = w\n",
        "                    horiz_end = horiz_start + f\n",
        "                    \n",
        "                  \n",
        "                    if mode == \"max\":\n",
        "                        \n",
        "                 \n",
        "                        a_prev_slice = a_prev[vert_start:vert_end, horiz_start:horiz_end, c]\n",
        "            \n",
        "                        mask = create_mask_from_window(a_prev_slice)\n",
        "                   \n",
        "                        dA_prev[i, vert_start: vert_end, horiz_start: horiz_end, c] += np.multiply(mask, dA[i, h, w, c])\n",
        "                        \n",
        "                    elif mode == \"average\":\n",
        "                        \n",
        "                       \n",
        "                        da = dA[i,h,w,c]\n",
        "                      \n",
        "                        shape = (f,f)\n",
        "                        dA_prev[i, vert_start: vert_end, horiz_start: horiz_end, c] += distribute_value(da, shape)\n",
        "                            \n",
        " \n",
        "    assert(dA_prev.shape == A_prev.shape)\n",
        "    \n",
        "    return dA_prev\n",
        "     "
      ],
      "metadata": {
        "id": "nAPEYxmN5DOr"
      },
      "execution_count": null,
      "outputs": []
    },
    {
      "cell_type": "code",
      "source": [
        "\n",
        "np.random.seed(1)\n",
        "\n",
        "A_prev = np.random.randn(5, 5, 3, 2)\n",
        "hparameters = {\"stride\": 1, \"f\":2}\n",
        "A, cache = pool_forward(A_prev, hparameters)\n",
        "dA = np.random.randn(5, 4, 2, 2)\n",
        "\n",
        "dA_prev = pool_backward(dA, cache, mode= \"max\")\n",
        "\n",
        "print(\"mod = max\")\n",
        "print('dA ortalaması =', np.max(dA))\n",
        "print('dA_prev[1,1]', dA_prev[1,1])\n",
        "print()\n",
        "\n",
        "dA_prev = pool_backward(dA, cache, mode= \"average\")\n",
        "\n",
        "print(\"mod = average\")\n",
        "print('dA ortalaması =', np.mean(dA))\n",
        "print('dA_prev[1,1]', dA_prev[1,1])\n"
      ],
      "metadata": {
        "colab": {
          "base_uri": "https://localhost:8080/"
        },
        "id": "8jcnqfIP5H1Q",
        "outputId": "c6fe952b-dbb0-46e8-ae53-ab0f79c34e5a"
      },
      "execution_count": null,
      "outputs": [
        {
          "output_type": "stream",
          "name": "stdout",
          "text": [
            "mod = max\n",
            "dA ortalaması = 2.528325706806398\n",
            "dA_prev[1,1] [[ 0.          0.        ]\n",
            " [ 5.05844394 -1.68282702]\n",
            " [ 0.          0.        ]]\n",
            "\n",
            "mod = average\n",
            "dA ortalaması = 0.14571390272918056\n",
            "dA_prev[1,1] [[ 0.08485462  0.2787552 ]\n",
            " [ 1.26461098 -0.25749373]\n",
            " [ 1.17975636 -0.53624893]]\n"
          ]
        }
      ]
    },
    {
      "cell_type": "code",
      "source": [],
      "metadata": {
        "id": "iOehmr1z5LkK"
      },
      "execution_count": null,
      "outputs": []
    }
  ]
}